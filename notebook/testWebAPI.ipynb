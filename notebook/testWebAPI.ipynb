{
 "cells": [
  {
   "cell_type": "code",
   "execution_count": 41,
   "metadata": {
    "collapsed": true
   },
   "outputs": [],
   "source": [
    "import requests\n",
    "import pandas as pd\n",
    "import json"
   ]
  },
  {
   "cell_type": "code",
   "execution_count": 25,
   "metadata": {
    "collapsed": true
   },
   "outputs": [],
   "source": [
    "board = []\n",
    "for i in range(8):\n",
    "    board.append(['None'] * 8)"
   ]
  },
  {
   "cell_type": "code",
   "execution_count": 46,
   "metadata": {},
   "outputs": [
    {
     "data": {
      "text/plain": [
       "[['None', 'None', 'None', 'None', 'None', 'None', 'None', 'None'],\n",
       " ['None', 'None', 'None', 'None', 'None', 'None', 'None', 'None'],\n",
       " ['None', 'None', 'None', 'None', 'None', 'None', 'None', 'None'],\n",
       " ['None', 'None', 'None', 'WHITE_TILE', 'BLACK_TILE', 'None', 'None', 'None'],\n",
       " ['None', 'None', 'None', 'BLACK_TILE', 'WHITE_TILE', 'None', 'None', 'None'],\n",
       " ['None', 'None', 'None', 'None', 'None', 'None', 'None', 'None'],\n",
       " ['None', 'None', 'None', 'None', 'None', 'None', 'None', 'None'],\n",
       " ['None', 'None', 'None', 'None', 'None', 'None', 'None', 'None']]"
      ]
     },
     "execution_count": 46,
     "metadata": {},
     "output_type": "execute_result"
    }
   ],
   "source": [
    "board"
   ]
  },
  {
   "cell_type": "code",
   "execution_count": 51,
   "metadata": {},
   "outputs": [
    {
     "data": {
      "text/plain": [
       "<Response [200]>"
      ]
     },
     "execution_count": 51,
     "metadata": {},
     "output_type": "execute_result"
    }
   ],
   "source": [
    "model= { 'playper':str(1), 'board': str(board) ,'maxDepth':7}\n",
    "res = requests.post('http://localhost:7527/api/Values',model)\n",
    "res"
   ]
  },
  {
   "cell_type": "code",
   "execution_count": 48,
   "metadata": {},
   "outputs": [],
   "source": [
    "jdata = json.loads(res.text)"
   ]
  },
  {
   "cell_type": "code",
   "execution_count": 49,
   "metadata": {},
   "outputs": [
    {
     "data": {
      "text/plain": [
       "[-1, -1]"
      ]
     },
     "execution_count": 49,
     "metadata": {},
     "output_type": "execute_result"
    }
   ],
   "source": [
    "jdata"
   ]
  },
  {
   "cell_type": "code",
   "execution_count": null,
   "metadata": {
    "collapsed": true
   },
   "outputs": [],
   "source": []
  }
 ],
 "metadata": {
  "kernelspec": {
   "display_name": "Python 3",
   "language": "python",
   "name": "python3"
  },
  "language_info": {
   "codemirror_mode": {
    "name": "ipython",
    "version": 3
   },
   "file_extension": ".py",
   "mimetype": "text/x-python",
   "name": "python",
   "nbconvert_exporter": "python",
   "pygments_lexer": "ipython3",
   "version": "3.6.1"
  }
 },
 "nbformat": 4,
 "nbformat_minor": 2
}
